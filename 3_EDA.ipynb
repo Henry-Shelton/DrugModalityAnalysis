{
 "cells": [
  {
   "cell_type": "markdown",
   "metadata": {},
   "source": [
    "# Part 3\n",
    "\n",
    "----------\n",
    "\n",
    "###  Exploring and identifying significant differences in the distribution of drug modalities across various subcellular locations, facilitating deeper insights."
   ]
  },
  {
   "cell_type": "code",
   "execution_count": 1,
   "metadata": {},
   "outputs": [
    {
     "name": "stdout",
     "output_type": "stream",
     "text": [
      "          drugType  subcellularLocations  count\n",
      "0         Antibody       Actin filaments     27\n",
      "1         Antibody  Apical cell membrane     45\n",
      "2         Antibody        Cell Junctions     56\n",
      "3         Antibody         Cell membrane    769\n",
      "4         Antibody       Cell projection     49\n",
      "..             ...                   ...    ...\n",
      "95  Small molecule       Cell projection    243\n",
      "96  Small molecule            Centrosome     48\n",
      "97  Small molecule       Cleavage furrow      1\n",
      "98  Small molecule             Cytoplasm   1915\n",
      "99  Small molecule   Cytoplasmic granule      4\n",
      "\n",
      "[100 rows x 3 columns]\n"
     ]
    }
   ],
   "source": [
    "# this snippet cleans the 'subcellularLocations' column by removing brackets and their contents using regular expressions, \n",
    "# then tallies the occurrences of each drug type in each subcellular location \n",
    "# (i simplified the subcellular location due to the massive amount of inconsistencies in the raw data. This may need to be refined in the future)\n",
    "# finally we save the result as a CSV file (since we are dealing with a 2 dimensional small amount of data (2,3000) parquet files arnt nescessary).\n",
    "\n",
    "import pandas as pd\n",
    "import ast # for tallying\n",
    "import re \n",
    "\n",
    "final_df = pd.read_parquet('./data/FINAL_DF.parquet')\n",
    "\n",
    "# Convert strings to lists of dictionaries\n",
    "final_df['subcellularLocations'] = final_df['subcellularLocations'].apply(ast.literal_eval)\n",
    "\n",
    "# use regular expression module remove all text patterns for better grouping\n",
    "def remove_brackets(text):\n",
    "    return re.sub(r'\\[.*?\\]: ', '', text)\n",
    "\n",
    "# lambda function to remove brackets and their contents from 'subcellularLocations' column, another simplification step to allow group by\n",
    "final_df['subcellularLocations'] = final_df['subcellularLocations'].apply(lambda x: [remove_brackets(location) for location in x])\n",
    "\n",
    "# this is a very important mapping step I decided to take in order to simplify the number of different subcellular locations. \n",
    "# If i were not to do this step then comparing the locations by where different drugs act would be much harder.\n",
    "subcellular_mapping = {\n",
    "    'Actin filaments': ['Actin filaments'],\n",
    "    'Apical cell membrane': ['Apical cell membrane', 'Basal cell membrane', 'Basolateral cell membrane', 'Lateral cell membrane'],\n",
    "    'Cell Junctions': ['Cell Junctions', 'Cell junction'],\n",
    "    'Cell membrane': ['Cell membrane', 'Plasma membrane', 'Cell surface', 'Postsynaptic cell membrane', 'Presynaptic cell membrane'],\n",
    "    'Centrosome': ['Centriolar satellite', 'Centrosome'],\n",
    "    'Cytoskeleton': ['Intermediate filaments', 'Microtubules'],\n",
    "    'Cytoplasm': ['Cytoplasm', 'Cytoplasmic bodies', 'Cytoplasmic vesicle', 'Cytosol'],\n",
    "    'Endomembrane system': ['Endomembrane system', 'Endoplasmic reticulum', 'Endoplasmic reticulum membrane', 'Endoplasmic reticulum lumen', 'Golgi apparatus', 'Golgi apparatus membrane', 'Golgi outpost', 'Lysosome', 'Lysosome membrane', 'Lysosome lumen', 'Microsome', 'Microsome membrane', 'Recycling endosome', 'Recycling endosome membrane'],\n",
    "    'Endosome': ['Early endosome', 'Endosome', 'Endosome membrane', 'Endosome lumen', 'Late endosome', 'Late endosome membrane'],\n",
    "    'Mitochondria': ['Mitochondria', 'Mitochondrion', 'Mitochondrion inner membrane', 'Mitochondrion matrix', 'Mitochondrion membrane', 'Mitochondrion outer membrane'],\n",
    "    'Nucleus': ['Nuclear bodies', 'Nuclear membrane', 'Nuclear speckles', 'Nucleoli', 'Nucleoli fibrillar center', 'Nucleoli rim', 'Nucleoplasm', 'Nucleus', 'Perikaryon'],\n",
    "    'Peroxisome': ['Peroxisome', 'Peroxisome membrane', 'Peroxisome matrix'],\n",
    "    'Secretion': ['Extracellular vesicle', 'Predicted to be secreted', 'Secreted'],\n",
    "    'Vesicles': ['Vesicles'],\n",
    "    'Synapse': ['Postsynapse', 'Synapse', 'Postsynaptic density'],\n",
    "    'Others': ['Chromosome', 'Cytokinetic bridge', 'Focal adhesion sites', 'Lipid droplet', 'Melanosome', 'Melanosome membrane', 'Mitotic spindle', 'Photoreceptor inner segment', 'Rods & Rings', 'Rough endoplasmic reticulum', 'Sarcoplasmic reticulum membrane']\n",
    "}\n",
    "\n",
    "# finally we group\n",
    "def map_subcellular_location(location):\n",
    "    for group, locations in subcellular_mapping.items():\n",
    "        if location in locations:\n",
    "            return group\n",
    "    return location\n",
    "\n",
    "# map subcellular locations to their groups\n",
    "final_df['subcellularLocations'] = final_df['subcellularLocations'].apply(lambda x: [map_subcellular_location(location) for location in x])\n",
    "\n",
    "tally_df = final_df.explode('subcellularLocations')\n",
    "\n",
    "# count occurances for count column\n",
    "tally_df = tally_df.groupby(['drugType', 'subcellularLocations']).size().reset_index(name='count')\n",
    "\n",
    "print(tally_df.head(100))\n",
    "\n",
    "tally_df.to_csv('3_Cleaned_Data_Grouped.csv', index=False)\n"
   ]
  },
  {
   "cell_type": "code",
   "execution_count": 38,
   "metadata": {},
   "outputs": [
    {
     "name": "stdout",
     "output_type": "stream",
     "text": [
      "Summary Statistics:\n",
      "                 count        mean         std  min   25%   50%     75%  \\\n",
      "drugType                                                                  \n",
      "Antibody          27.0   96.629630  184.139819  1.0  1.00  21.0   94.50   \n",
      "Cell               8.0    1.875000    0.991031  1.0  1.00   1.5    3.00   \n",
      "Enzyme             5.0    9.600000   13.557286  1.0  1.00   1.0   13.00   \n",
      "Gene               9.0    3.888889    2.472066  1.0  2.00   3.0    6.00   \n",
      "Oligonucleotide   17.0   18.176471   23.922362  1.0  2.00   5.0   27.00   \n",
      "Oligosaccharide    6.0    6.666667    9.352362  1.0  1.25   2.5    6.75   \n",
      "Protein           19.0   46.210526   77.019174  1.0  3.00  12.0   59.50   \n",
      "Small molecule    36.0  259.416667  534.048760  1.0  5.75  34.5  201.75   \n",
      "Unknown           19.0   23.789474   32.425263  1.0  3.00   7.0   35.00   \n",
      "\n",
      "                    max  \n",
      "drugType                 \n",
      "Antibody          769.0  \n",
      "Cell                3.0  \n",
      "Enzyme             32.0  \n",
      "Gene                8.0  \n",
      "Oligonucleotide    77.0  \n",
      "Oligosaccharide    25.0  \n",
      "Protein           320.0  \n",
      "Small molecule   1931.0  \n",
      "Unknown           111.0  \n",
      "\n",
      "Total Counts by Drug Type:\n",
      "drugType\n",
      "Antibody           2609\n",
      "Cell                 15\n",
      "Enzyme               48\n",
      "Gene                 35\n",
      "Oligonucleotide     309\n",
      "Oligosaccharide      40\n",
      "Protein             878\n",
      "Small molecule     9339\n",
      "Unknown             452\n",
      "Name: count, dtype: int64\n",
      "\n",
      "Top Subcellular Locations for Each Drug Type:\n",
      "                            drugType subcellularLocations  count\n",
      "drugType                                                        \n",
      "Antibody        3           Antibody        Cell membrane    769\n",
      "                23          Antibody            Secretion    590\n",
      "                17          Antibody              Nucleus    247\n",
      "Cell            28              Cell            Cytoplasm      3\n",
      "                29              Cell  Endomembrane system      3\n",
      "                32              Cell              Nucleus      3\n",
      "Enzyme          38            Enzyme            Secretion     32\n",
      "                39            Enzyme             Vesicles     13\n",
      "                35            Enzyme        Cell membrane      1\n",
      "Gene            46              Gene              Nucleus      8\n",
      "                40              Gene        Cell membrane      6\n",
      "                47              Gene            Secretion      6\n",
      "Oligonucleotide 53   Oligonucleotide            Cytoplasm     77\n",
      "                60   Oligonucleotide              Nucleus     71\n",
      "                64   Oligonucleotide            Secretion     40\n",
      "Oligosaccharide 70   Oligosaccharide            Secretion     25\n",
      "                69   Oligosaccharide              Nucleus      8\n",
      "                68   Oligosaccharide  Endomembrane system      3\n",
      "Protein         75           Protein        Cell membrane    320\n",
      "                88           Protein            Secretion    142\n",
      "                80           Protein  Endomembrane system     97\n",
      "Small molecule  94    Small molecule        Cell membrane   1931\n",
      "                112   Small molecule              Nucleus   1916\n",
      "                98    Small molecule            Cytoplasm   1915\n",
      "Unknown         130          Unknown        Cell membrane    111\n",
      "                143          Unknown            Secretion     80\n",
      "                132          Unknown            Cytoplasm     68\n"
     ]
    },
    {
     "name": "stderr",
     "output_type": "stream",
     "text": [
      "C:\\Users\\Yohen\\AppData\\Local\\Temp\\ipykernel_6032\\1384170053.py:9: DeprecationWarning: DataFrameGroupBy.apply operated on the grouping columns. This behavior is deprecated, and in a future version of pandas the grouping columns will be excluded from the operation. Either pass `include_groups=False` to exclude the groupings or explicitly select the grouping columns after groupby to silence this warning.\n",
      "  top_locations = data_df.groupby('drugType').apply(lambda x: x.nlargest(3, 'count'))\n"
     ]
    }
   ],
   "source": [
    "# some basic summary statistics of our resulting drug type and subcellular location that it acts in \n",
    "data_df = pd.read_csv('3_Cleaned_Data_Grouped.csv')\n",
    "\n",
    "summary_stats = data_df.groupby('drugType')['count'].describe()\n",
    "\n",
    "total_counts = data_df.groupby('drugType')['count'].sum()\n",
    "\n",
    "# top subcellular locations for each drug type\n",
    "top_locations = data_df.groupby('drugType').apply(lambda x: x.nlargest(3, 'count'))\n",
    "\n",
    "print(\"Summary Statistics:\")\n",
    "print(summary_stats)\n",
    "print(\"\\nTotal Counts by Drug Type:\")\n",
    "print(total_counts)\n",
    "print(\"\\nTop Subcellular Locations for Each Drug Type:\")\n",
    "print(top_locations)"
   ]
  },
  {
   "cell_type": "markdown",
   "metadata": {},
   "source": [
    "-----------------\n",
    "\n",
    "### Before visualising the data, to try and identify any significant differences in the distribution of drug modalities (drug types) across various subcellular locations we can conduct some statistical testing\n",
    "\n",
    "---------------------"
   ]
  },
  {
   "cell_type": "code",
   "execution_count": 2,
   "metadata": {},
   "outputs": [
    {
     "name": "stdout",
     "output_type": "stream",
     "text": [
      "Chi-square statistic: 6.4985407558099615\n",
      "P-value: 1.0\n",
      "Degrees of freedom: 304\n"
     ]
    }
   ],
   "source": [
    "import pandas as pd\n",
    "from scipy.stats import chi2_contingency\n",
    "\n",
    "# Read the CSV into a DataFrame\n",
    "tally_df = pd.read_csv('3_Cleaned_Data_Grouped.csv')\n",
    "\n",
    "# Create a contingency table\n",
    "contingency_table = pd.crosstab(tally_df['drugType'], tally_df['subcellularLocations'], values=tally_df['count'], aggfunc='sum', normalize='index')\n",
    "\n",
    "# Perform chi-square test\n",
    "chi2, p, dof, expected = chi2_contingency(contingency_table)\n",
    "\n",
    "# Print the results\n",
    "print(\"Chi-square statistic:\", chi2)\n",
    "print(\"P-value:\", p)\n",
    "print(\"Degrees of freedom:\", dof)\n"
   ]
  },
  {
   "cell_type": "markdown",
   "metadata": {},
   "source": [
    "Using Chi-square reveals no significant differences between drug type and subcellular location by which it operates. We will conduct some more visual inspections to explore further."
   ]
  },
  {
   "cell_type": "markdown",
   "metadata": {},
   "source": [
    "### [Click here to go to PART 4 - preprocessing stages](.\\4_Visualise_Analysis_Results.ipynb)"
   ]
  }
 ],
 "metadata": {
  "kernelspec": {
   "display_name": "venv",
   "language": "python",
   "name": "python3"
  },
  "language_info": {
   "codemirror_mode": {
    "name": "ipython",
    "version": 3
   },
   "file_extension": ".py",
   "mimetype": "text/x-python",
   "name": "python",
   "nbconvert_exporter": "python",
   "pygments_lexer": "ipython3",
   "version": "3.10.6"
  }
 },
 "nbformat": 4,
 "nbformat_minor": 2
}
