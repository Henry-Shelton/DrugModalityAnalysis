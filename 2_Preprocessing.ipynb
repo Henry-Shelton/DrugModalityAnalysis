{
 "cells": [
  {
   "cell_type": "markdown",
   "metadata": {},
   "source": [
    "# Part 2\n",
    "\n",
    "----------\n",
    "\n",
    "### The provided datasets are integrated to link drug modalities with the subcellular locations of their targets, ensuring comprehensive data preparation."
   ]
  },
  {
   "cell_type": "markdown",
   "metadata": {},
   "source": [
    "Continuing on from the previous inspection of the 3 datasets downloaded, we now intend to integrate the datasets to effectively link drug modalities (types or classes of drugs) to the subcellular locations of their targets.\n",
    "\n",
    "To do this we first link the id's present in each dataset: \n",
    "* DRUG --> MoA --> TARGET\n",
    "* (id) --> [(chemblIds), (targetType)] --> (id)\n",
    "\n",
    "Once this is established we can look specifically at patterns/distributions between drug modality and subcellular locations for each interaction."
   ]
  },
  {
   "cell_type": "code",
   "execution_count": 1,
   "metadata": {},
   "outputs": [],
   "source": [
    "# since the mechanism of action dataset has the fewest rows this will be the limiting factor when combining matching id's between all datasets.\n",
    "# LOGIC: we want all merged mechanism of action dataset rows WHERE chemblIds == id (from merged drug info df) AND targets == id (from marged targets df)"
   ]
  },
  {
   "cell_type": "code",
   "execution_count": 6,
   "metadata": {},
   "outputs": [
    {
     "name": "stdout",
     "output_type": "stream",
     "text": [
      "Shape of merged DataFrame: (3528, 53)\n",
      "Columns of merged DataFrame: Index(['id_x', 'canonicalSmiles', 'inchiKey', 'drugType', 'blackBoxWarning',\n",
      "       'name', 'yearOfFirstApproval', 'maximumClinicalTrialPhase', 'parentId',\n",
      "       'hasBeenWithdrawn', 'isApproved', 'tradeNames', 'synonyms_x',\n",
      "       'crossReferences', 'childChemblIds', 'linkedDiseases', 'linkedTargets',\n",
      "       'description', 'actionType', 'mechanismOfAction', 'chemblIds',\n",
      "       'targetName', 'targetType', 'targets', 'references', 'id_y',\n",
      "       'approvedSymbol', 'biotype', 'transcriptIds', 'canonicalTranscript',\n",
      "       'canonicalExons', 'genomicLocation', 'alternativeGenes', 'approvedName',\n",
      "       'go', 'hallmarks', 'synonyms_y', 'symbolSynonyms', 'nameSynonyms',\n",
      "       'functionDescriptions', 'subcellularLocations', 'targetClass',\n",
      "       'obsoleteSymbols', 'obsoleteNames', 'constraint', 'tep', 'proteinIds',\n",
      "       'dbXrefs', 'chemicalProbes', 'homologues', 'tractability',\n",
      "       'safetyLiabilities', 'pathways'],\n",
      "      dtype='object')\n"
     ]
    }
   ],
   "source": [
    "# firstly columns need to be converted to same data types for comparisons, then merge based on the specific conditions highlighted above\n",
    "import pandas as pd\n",
    "\n",
    "merged_drug_info = pd.read_parquet(\"./data/merged_drug_info.parquet\")\n",
    "merged_mechanism = pd.read_parquet(\"./data/merged_mechanism.parquet\")\n",
    "merged_targets = pd.read_parquet(\"./data/merged_targets.parquet\")\n",
    "\n",
    "# STEP 1: need to convert columns we need to compare into the same data format and type\n",
    "# convert 'chemblIds' and 'targets' columns to strings\n",
    "merged_mechanism['chemblIds'] = merged_mechanism['chemblIds'].astype(str)\n",
    "merged_mechanism['targets'] = merged_mechanism['targets'].astype(str)\n",
    "# remove brackets and quotes from 'chemblIds' and 'targets' columns to we can compare them \n",
    "merged_mechanism['chemblIds'] = merged_mechanism['chemblIds'].str.strip(\"[]\").str.replace(\"'\", \"\")\n",
    "merged_mechanism['targets'] = merged_mechanism['targets'].str.strip(\"[]\").str.replace(\"'\", \"\")\n",
    "\n",
    "# STEP 2: merge on conditions\n",
    "# merge drug info id and mechanism table chemblIds if both are the same \n",
    "merged_info_mechanism = pd.merge(merged_drug_info, merged_mechanism, left_on='id', right_on='chemblIds', how='inner') \n",
    "# do the same for identicle mechanism table targets and target table ids\n",
    "merged_all = pd.merge(merged_info_mechanism, merged_targets, left_on='targets', right_on='id', how='inner')\n",
    "\n",
    "# both the above steps create a dummy column each, id_x and id_y\n",
    "\n",
    "# resulting dataframe dimension data\n",
    "print(\"Shape of merged DataFrame:\", merged_all.shape)\n",
    "print(\"Columns of merged DataFrame:\", merged_all.columns)\n",
    "\n",
    "# save it to /data\n",
    "merged_all.to_parquet('./data/MERGED_DATA_OUTPUT.parquet', index=False)\n"
   ]
  },
  {
   "cell_type": "code",
   "execution_count": 8,
   "metadata": {},
   "outputs": [
    {
     "name": "stdout",
     "output_type": "stream",
     "text": [
      "Condition is true for each row: True\n",
      "\n",
      "\n",
      "Random matching row:\n",
      "               id_x      chemblIds          targets             id_y\n",
      "3056  CHEMBL2104753  CHEMBL2104753  ENSG00000132170  ENSG00000132170\n"
     ]
    }
   ],
   "source": [
    "# here I want to quickly check if the merging process for the datasets has worked\n",
    "\n",
    "import pandas as pd\n",
    "\n",
    "merged_data = pd.read_parquet('./data/MERGED_DATA_OUTPUT.parquet')\n",
    "\n",
    "# if drug_info id == chemblIds AND targets == targets id FOR all rows in the merged dataset THEN return True\n",
    "\n",
    "condition_true_for_each_row = (merged_data['id_x'] == merged_data['chemblIds']) & (merged_data['targets'] == merged_data['id_y'])\n",
    "all_conditions_true = condition_true_for_each_row.all()\n",
    "\n",
    "# if output = true, we have successfully linked drug info to targets using the mechanism of action dataset as a bridging variable\n",
    "print(\"Condition is true for each row:\", all_conditions_true)\n",
    "\n",
    "# visual confirmation of this also, sample a row\n",
    "matching_rows = merged_data[(merged_data['id_x'] == merged_data['chemblIds']) & (merged_data['targets'] == merged_data['id_y'])]\n",
    "random_matching_row = matching_rows.sample(1)\n",
    "print(\"\\n\\nRandom matching row:\")\n",
    "print(random_matching_row[['id_x', 'chemblIds', 'targets', 'id_y']])"
   ]
  },
  {
   "cell_type": "markdown",
   "metadata": {},
   "source": [
    "-----------\n",
    "\n",
    "#### At this point we have a single table with matching drugs, machanisms of action and their targets (alongside all of the other data within the rows)\n",
    "\n",
    "#### Now we can begin analysis of specific type of drug (drug modality) and the subcellular locations of their targets\n",
    "\n",
    "Columns of interest: \n",
    "* drug modalities                         ---> drugType\n",
    "* subcellular locations of their targets  ---> subcellularLocations\n",
    "\n",
    "-----------"
   ]
  },
  {
   "cell_type": "code",
   "execution_count": 9,
   "metadata": {},
   "outputs": [
    {
     "name": "stdout",
     "output_type": "stream",
     "text": [
      "+----+----------------+---------------------------------------------------------------------------------------------------------------------------------------------------------------------------------------------------------------+\n",
      "|    | drugType       | subcellularLocations                                                                                                                                                                                          |\n",
      "+====+================+===============================================================================================================================================================================================================+\n",
      "|  0 | Small molecule | ['Cell membrane', 'Postsynaptic cell membrane', 'Basolateral cell membrane', 'Endoplasmic reticulum membrane', 'Plasma membrane']                                                                             |\n",
      "+----+----------------+---------------------------------------------------------------------------------------------------------------------------------------------------------------------------------------------------------------+\n",
      "|  1 | Small molecule | ['Cell membrane', 'Postsynaptic cell membrane']                                                                                                                                                               |\n",
      "+----+----------------+---------------------------------------------------------------------------------------------------------------------------------------------------------------------------------------------------------------+\n",
      "|  2 | Antibody       | ['Secreted']                                                                                                                                                                                                  |\n",
      "+----+----------------+---------------------------------------------------------------------------------------------------------------------------------------------------------------------------------------------------------------+\n",
      "|  3 | Small molecule | ['Cell membrane']                                                                                                                                                                                             |\n",
      "+----+----------------+---------------------------------------------------------------------------------------------------------------------------------------------------------------------------------------------------------------+\n",
      "|  4 | Small molecule | ['Cell membrane']                                                                                                                                                                                             |\n",
      "+----+----------------+---------------------------------------------------------------------------------------------------------------------------------------------------------------------------------------------------------------+\n",
      "|  5 | Antibody       | ['Cell membrane']                                                                                                                                                                                             |\n",
      "+----+----------------+---------------------------------------------------------------------------------------------------------------------------------------------------------------------------------------------------------------+\n",
      "|  6 | Small molecule | ['Nucleus', 'Cytoplasm', 'Cytosol']                                                                                                                                                                           |\n",
      "+----+----------------+---------------------------------------------------------------------------------------------------------------------------------------------------------------------------------------------------------------+\n",
      "|  7 | Small molecule | ['Cell membrane', 'Cell projection', '[Isoform 1]: Cell membrane', 'Early endosome', 'Cytoplasm', 'Nucleus', '[Isoform 2]: Cytoplasm', '[Isoform 3]: Cytoplasm', 'Plasma membrane', 'Cytosol', 'Nucleoplasm'] |\n",
      "+----+----------------+---------------------------------------------------------------------------------------------------------------------------------------------------------------------------------------------------------------+\n",
      "|  8 | Small molecule | ['Cell membrane']                                                                                                                                                                                             |\n",
      "+----+----------------+---------------------------------------------------------------------------------------------------------------------------------------------------------------------------------------------------------------+\n",
      "|  9 | Small molecule | ['Cell membrane', 'Early endosome', 'Golgi apparatus', 'Cytosol']                                                                                                                                             |\n",
      "+----+----------------+---------------------------------------------------------------------------------------------------------------------------------------------------------------------------------------------------------------+\n",
      "          drugType                               subcellularLocations\n",
      "0   Small molecule  ['Cell membrane', 'Postsynaptic cell membrane'...\n",
      "1   Small molecule    ['Cell membrane', 'Postsynaptic cell membrane']\n",
      "2         Antibody                                       ['Secreted']\n",
      "3   Small molecule                                  ['Cell membrane']\n",
      "4   Small molecule                                  ['Cell membrane']\n",
      "5         Antibody                                  ['Cell membrane']\n",
      "6   Small molecule                ['Nucleus', 'Cytoplasm', 'Cytosol']\n",
      "7   Small molecule  ['Cell membrane', 'Cell projection', '[Isoform...\n",
      "8   Small molecule                                  ['Cell membrane']\n",
      "9   Small molecule  ['Cell membrane', 'Early endosome', 'Golgi app...\n",
      "10  Small molecule  ['Cytoplasm', 'Nucleus', 'Membrane', 'Cytosol'...\n",
      "11  Small molecule               ['Cytoplasm', 'Membrane', 'Cytosol']\n",
      "12  Small molecule             ['Nucleus', 'Nucleoplasm', 'Vesicles']\n",
      "13  Small molecule  ['Nucleus', 'Cytoplasm', 'Nucleoplasm', 'Cytos...\n",
      "14  Small molecule  ['Cytoplasm', 'Nucleus', 'Nuclear speckles', '...\n",
      "15  Small molecule                     ['Postsynaptic cell membrane']\n",
      "16  Small molecule    ['Cell membrane', 'Postsynaptic cell membrane']\n",
      "17  Small molecule  ['Cell membrane', 'Postsynaptic cell membrane'...\n",
      "18  Small molecule    ['Cell membrane', 'Postsynaptic cell membrane']\n",
      "19        Antibody  ['[Isoform 1]: Cell membrane', '[Isoform 2]: S...\n"
     ]
    },
    {
     "name": "stderr",
     "output_type": "stream",
     "text": [
      "C:\\Users\\Yohen\\AppData\\Local\\Temp\\ipykernel_18424\\322449198.py:14: SettingWithCopyWarning: \n",
      "A value is trying to be set on a copy of a slice from a DataFrame.\n",
      "Try using .loc[row_indexer,col_indexer] = value instead\n",
      "\n",
      "See the caveats in the documentation: https://pandas.pydata.org/pandas-docs/stable/user_guide/indexing.html#returning-a-view-versus-a-copy\n",
      "  final_df['subcellularLocations'] = final_df['subcellularLocations'].astype(str)\n"
     ]
    }
   ],
   "source": [
    "# specifically extracting the columns of interest that we need to investigate the investigation at hand\n",
    "\n",
    "import pandas as pd\n",
    "from tabulate import tabulate\n",
    "\n",
    "merged_data = pd.read_parquet('./data/MERGED_DATA_OUTPUT.parquet')\n",
    "\n",
    "# obtain ONLY location value from each the dictionaries as part of the subcellularLocations data\n",
    "merged_data['subcellularLocations'] = merged_data['subcellularLocations'].apply(lambda x: [item['location'] for item in x])\n",
    "\n",
    "# create a new df with only 'drugType' and 'subcellularLocations' columns\n",
    "final_df = merged_data[['drugType', 'subcellularLocations']]\n",
    "\n",
    "final_df['subcellularLocations'] = final_df['subcellularLocations'].astype(str)\n",
    "\n",
    "# save it in /data\n",
    "final_df.to_parquet('./data/FINAL_DF.parquet', index=False)\n",
    "\n",
    "# visualise to make sure it looks accurate\n",
    "print(tabulate(final_df.head(10), headers='keys', tablefmt='grid'))\n",
    "\n",
    "print(final_df.head(20))\n"
   ]
  },
  {
   "cell_type": "markdown",
   "metadata": {},
   "source": [
    "-------------------\n",
    "\n",
    "#### Now we have a large table linking all of the various drug types with the subcellular locations whereby they have been studied to have some form of mechanism of action in.\n",
    "\n",
    "#### In the next notebook, we will begin aggregating this data and conducting analysis on the distribution of drug modalities across various subcellular locations.\n",
    "\n",
    "--------"
   ]
  },
  {
   "cell_type": "markdown",
   "metadata": {},
   "source": [
    "### [Click here to go to PART 3 - exploratory data analysis stages](.\\3_EDA.ipynb)"
   ]
  }
 ],
 "metadata": {
  "kernelspec": {
   "display_name": "venv",
   "language": "python",
   "name": "python3"
  },
  "language_info": {
   "codemirror_mode": {
    "name": "ipython",
    "version": 3
   },
   "file_extension": ".py",
   "mimetype": "text/x-python",
   "name": "python",
   "nbconvert_exporter": "python",
   "pygments_lexer": "ipython3",
   "version": "3.10.6"
  }
 },
 "nbformat": 4,
 "nbformat_minor": 2
}
